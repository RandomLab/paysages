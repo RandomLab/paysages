{
 "cells": [
  {
   "cell_type": "code",
   "execution_count": 1,
   "id": "2d23fc18-cad8-4ba8-b4bb-bb22b84b4350",
   "metadata": {},
   "outputs": [],
   "source": [
    "from nltk.tokenize import sent_tokenize"
   ]
  },
  {
   "cell_type": "code",
   "execution_count": 2,
   "id": "4f9fe2e3-c3d7-49f8-93ae-b059c38fb662",
   "metadata": {},
   "outputs": [],
   "source": [
    "from nltk.tokenize import word_tokenize"
   ]
  },
  {
   "cell_type": "code",
   "execution_count": 3,
   "id": "05387f34-cfa4-476d-beeb-30f09266647c",
   "metadata": {},
   "outputs": [],
   "source": [
    "import re"
   ]
  },
  {
   "cell_type": "code",
   "execution_count": 4,
   "id": "3359b90d-4ca1-4ef2-85b3-65d238285026",
   "metadata": {},
   "outputs": [],
   "source": [
    "import spacy"
   ]
  },
  {
   "cell_type": "code",
   "execution_count": 5,
   "id": "c357f8de-b395-420a-999d-16bbb178e728",
   "metadata": {},
   "outputs": [],
   "source": [
    "from spacy.lang.fr.stop_words import STOP_WORDS"
   ]
  },
  {
   "cell_type": "code",
   "execution_count": 6,
   "id": "9489d181-3adb-43ef-904b-bb3ce543335b",
   "metadata": {},
   "outputs": [],
   "source": [
    "import string"
   ]
  },
  {
   "cell_type": "code",
   "execution_count": 7,
   "id": "b982dc89-5cd8-41c6-bb7d-f9254d295549",
   "metadata": {},
   "outputs": [],
   "source": [
    "from textblob import Blobber"
   ]
  },
  {
   "cell_type": "code",
   "execution_count": 8,
   "id": "508fdd5b-af5a-4625-95d5-524a62948eea",
   "metadata": {},
   "outputs": [],
   "source": [
    "from textblob_fr import PatternTagger, PatternAnalyzer"
   ]
  },
  {
   "cell_type": "code",
   "execution_count": 10,
   "id": "7b2b9c78-1254-432b-8de2-d78414ec0a9e",
   "metadata": {},
   "outputs": [],
   "source": [
    "tb = Blobber(pos_tagger=PatternTagger(), analyzer=PatternAnalyzer())"
   ]
  },
  {
   "cell_type": "code",
   "execution_count": 8,
   "id": "b9fddb6e-ac09-4515-9ebc-75e7c38e7cf4",
   "metadata": {},
   "outputs": [],
   "source": [
    "comment = \"Je me promène sur la plage, il fait très beau, je suis content\""
   ]
  },
  {
   "cell_type": "code",
   "execution_count": 12,
   "id": "9b7174b6-4f7f-4e5b-bae0-17ead5495b65",
   "metadata": {},
   "outputs": [
    {
     "data": {
      "text/plain": [
       "TextBlob(\"Je me promène sur la plage, il fait très beau, je suis content\")"
      ]
     },
     "execution_count": 12,
     "metadata": {},
     "output_type": "execute_result"
    }
   ],
   "source": [
    "tb(comment)"
   ]
  },
  {
   "cell_type": "code",
   "execution_count": 13,
   "id": "ebe89027-59a0-4d00-8f43-02c3cf43f61d",
   "metadata": {},
   "outputs": [],
   "source": [
    "vs = tb(comment)"
   ]
  },
  {
   "cell_type": "code",
   "execution_count": 14,
   "id": "88bbf1d9-7a7d-4e03-8891-27997596ca9b",
   "metadata": {},
   "outputs": [
    {
     "data": {
      "text/plain": [
       "TextBlob(\"Je me promène sur la plage, il fait très beau, je suis content\")"
      ]
     },
     "execution_count": 14,
     "metadata": {},
     "output_type": "execute_result"
    }
   ],
   "source": [
    "vs.s"
   ]
  },
  {
   "cell_type": "code",
   "execution_count": 1,
   "id": "c82746f3-357c-4524-a28f-87cd2ea52df7",
   "metadata": {},
   "outputs": [],
   "source": [
    "import spacy"
   ]
  },
  {
   "cell_type": "code",
   "execution_count": 4,
   "id": "ec361741-a83a-4a8f-bd03-356e7d522310",
   "metadata": {},
   "outputs": [],
   "source": [
    "from spacytextblob.spacytextblob import SpacyTextBlob"
   ]
  },
  {
   "cell_type": "code",
   "execution_count": 3,
   "id": "f583dc7b-2849-4910-a376-ed291a07d877",
   "metadata": {},
   "outputs": [
    {
     "name": "stdout",
     "output_type": "stream",
     "text": [
      "Collecting spacytextblob\n",
      "  Downloading spacytextblob-5.0.0-py3-none-any.whl.metadata (4.8 kB)\n",
      "Requirement already satisfied: spacy>=3.0.0 in /home/jeremie/Code/paysages/.venv/lib/python3.12/site-packages (from spacytextblob) (3.8.2)\n",
      "Requirement already satisfied: textblob>=0.18.0.post0 in /home/jeremie/Code/paysages/.venv/lib/python3.12/site-packages (from spacytextblob) (0.18.0.post0)\n",
      "Requirement already satisfied: spacy-legacy<3.1.0,>=3.0.11 in /home/jeremie/Code/paysages/.venv/lib/python3.12/site-packages (from spacy>=3.0.0->spacytextblob) (3.0.12)\n",
      "Requirement already satisfied: spacy-loggers<2.0.0,>=1.0.0 in /home/jeremie/Code/paysages/.venv/lib/python3.12/site-packages (from spacy>=3.0.0->spacytextblob) (1.0.5)\n",
      "Requirement already satisfied: murmurhash<1.1.0,>=0.28.0 in /home/jeremie/Code/paysages/.venv/lib/python3.12/site-packages (from spacy>=3.0.0->spacytextblob) (1.0.11)\n",
      "Requirement already satisfied: cymem<2.1.0,>=2.0.2 in /home/jeremie/Code/paysages/.venv/lib/python3.12/site-packages (from spacy>=3.0.0->spacytextblob) (2.0.10)\n",
      "Requirement already satisfied: preshed<3.1.0,>=3.0.2 in /home/jeremie/Code/paysages/.venv/lib/python3.12/site-packages (from spacy>=3.0.0->spacytextblob) (3.0.9)\n",
      "Requirement already satisfied: thinc<8.4.0,>=8.3.0 in /home/jeremie/Code/paysages/.venv/lib/python3.12/site-packages (from spacy>=3.0.0->spacytextblob) (8.3.2)\n",
      "Requirement already satisfied: wasabi<1.2.0,>=0.9.1 in /home/jeremie/Code/paysages/.venv/lib/python3.12/site-packages (from spacy>=3.0.0->spacytextblob) (1.1.3)\n",
      "Requirement already satisfied: srsly<3.0.0,>=2.4.3 in /home/jeremie/Code/paysages/.venv/lib/python3.12/site-packages (from spacy>=3.0.0->spacytextblob) (2.4.8)\n",
      "Requirement already satisfied: catalogue<2.1.0,>=2.0.6 in /home/jeremie/Code/paysages/.venv/lib/python3.12/site-packages (from spacy>=3.0.0->spacytextblob) (2.0.10)\n",
      "Requirement already satisfied: weasel<0.5.0,>=0.1.0 in /home/jeremie/Code/paysages/.venv/lib/python3.12/site-packages (from spacy>=3.0.0->spacytextblob) (0.4.1)\n",
      "Requirement already satisfied: typer<1.0.0,>=0.3.0 in /home/jeremie/Code/paysages/.venv/lib/python3.12/site-packages (from spacy>=3.0.0->spacytextblob) (0.15.1)\n",
      "Requirement already satisfied: tqdm<5.0.0,>=4.38.0 in /home/jeremie/Code/paysages/.venv/lib/python3.12/site-packages (from spacy>=3.0.0->spacytextblob) (4.67.1)\n",
      "Requirement already satisfied: requests<3.0.0,>=2.13.0 in /home/jeremie/Code/paysages/.venv/lib/python3.12/site-packages (from spacy>=3.0.0->spacytextblob) (2.32.3)\n",
      "Requirement already satisfied: pydantic!=1.8,!=1.8.1,<3.0.0,>=1.7.4 in /home/jeremie/Code/paysages/.venv/lib/python3.12/site-packages (from spacy>=3.0.0->spacytextblob) (2.10.3)\n",
      "Requirement already satisfied: jinja2 in /home/jeremie/Code/paysages/.venv/lib/python3.12/site-packages (from spacy>=3.0.0->spacytextblob) (3.1.4)\n",
      "Requirement already satisfied: setuptools in /home/jeremie/Code/paysages/.venv/lib/python3.12/site-packages (from spacy>=3.0.0->spacytextblob) (75.6.0)\n",
      "Requirement already satisfied: packaging>=20.0 in /home/jeremie/Code/paysages/.venv/lib/python3.12/site-packages (from spacy>=3.0.0->spacytextblob) (24.2)\n",
      "Requirement already satisfied: langcodes<4.0.0,>=3.2.0 in /home/jeremie/Code/paysages/.venv/lib/python3.12/site-packages (from spacy>=3.0.0->spacytextblob) (3.5.0)\n",
      "Requirement already satisfied: numpy>=1.19.0 in /home/jeremie/Code/paysages/.venv/lib/python3.12/site-packages (from spacy>=3.0.0->spacytextblob) (2.0.0)\n",
      "Requirement already satisfied: nltk>=3.8 in /home/jeremie/Code/paysages/.venv/lib/python3.12/site-packages (from textblob>=0.18.0.post0->spacytextblob) (3.9.1)\n",
      "Requirement already satisfied: language-data>=1.2 in /home/jeremie/Code/paysages/.venv/lib/python3.12/site-packages (from langcodes<4.0.0,>=3.2.0->spacy>=3.0.0->spacytextblob) (1.3.0)\n",
      "Requirement already satisfied: click in /home/jeremie/Code/paysages/.venv/lib/python3.12/site-packages (from nltk>=3.8->textblob>=0.18.0.post0->spacytextblob) (8.1.7)\n",
      "Requirement already satisfied: joblib in /home/jeremie/Code/paysages/.venv/lib/python3.12/site-packages (from nltk>=3.8->textblob>=0.18.0.post0->spacytextblob) (1.4.2)\n",
      "Requirement already satisfied: regex>=2021.8.3 in /home/jeremie/Code/paysages/.venv/lib/python3.12/site-packages (from nltk>=3.8->textblob>=0.18.0.post0->spacytextblob) (2024.11.6)\n",
      "Requirement already satisfied: annotated-types>=0.6.0 in /home/jeremie/Code/paysages/.venv/lib/python3.12/site-packages (from pydantic!=1.8,!=1.8.1,<3.0.0,>=1.7.4->spacy>=3.0.0->spacytextblob) (0.7.0)\n",
      "Requirement already satisfied: pydantic-core==2.27.1 in /home/jeremie/Code/paysages/.venv/lib/python3.12/site-packages (from pydantic!=1.8,!=1.8.1,<3.0.0,>=1.7.4->spacy>=3.0.0->spacytextblob) (2.27.1)\n",
      "Requirement already satisfied: typing-extensions>=4.12.2 in /home/jeremie/Code/paysages/.venv/lib/python3.12/site-packages (from pydantic!=1.8,!=1.8.1,<3.0.0,>=1.7.4->spacy>=3.0.0->spacytextblob) (4.12.2)\n",
      "Requirement already satisfied: charset-normalizer<4,>=2 in /home/jeremie/Code/paysages/.venv/lib/python3.12/site-packages (from requests<3.0.0,>=2.13.0->spacy>=3.0.0->spacytextblob) (3.4.0)\n",
      "Requirement already satisfied: idna<4,>=2.5 in /home/jeremie/Code/paysages/.venv/lib/python3.12/site-packages (from requests<3.0.0,>=2.13.0->spacy>=3.0.0->spacytextblob) (3.10)\n",
      "Requirement already satisfied: urllib3<3,>=1.21.1 in /home/jeremie/Code/paysages/.venv/lib/python3.12/site-packages (from requests<3.0.0,>=2.13.0->spacy>=3.0.0->spacytextblob) (2.2.3)\n",
      "Requirement already satisfied: certifi>=2017.4.17 in /home/jeremie/Code/paysages/.venv/lib/python3.12/site-packages (from requests<3.0.0,>=2.13.0->spacy>=3.0.0->spacytextblob) (2024.8.30)\n",
      "Requirement already satisfied: blis<1.1.0,>=1.0.0 in /home/jeremie/Code/paysages/.venv/lib/python3.12/site-packages (from thinc<8.4.0,>=8.3.0->spacy>=3.0.0->spacytextblob) (1.0.1)\n",
      "Requirement already satisfied: confection<1.0.0,>=0.0.1 in /home/jeremie/Code/paysages/.venv/lib/python3.12/site-packages (from thinc<8.4.0,>=8.3.0->spacy>=3.0.0->spacytextblob) (0.1.5)\n",
      "Requirement already satisfied: shellingham>=1.3.0 in /home/jeremie/Code/paysages/.venv/lib/python3.12/site-packages (from typer<1.0.0,>=0.3.0->spacy>=3.0.0->spacytextblob) (1.5.4)\n",
      "Requirement already satisfied: rich>=10.11.0 in /home/jeremie/Code/paysages/.venv/lib/python3.12/site-packages (from typer<1.0.0,>=0.3.0->spacy>=3.0.0->spacytextblob) (13.9.4)\n",
      "Requirement already satisfied: cloudpathlib<1.0.0,>=0.7.0 in /home/jeremie/Code/paysages/.venv/lib/python3.12/site-packages (from weasel<0.5.0,>=0.1.0->spacy>=3.0.0->spacytextblob) (0.20.0)\n",
      "Requirement already satisfied: smart-open<8.0.0,>=5.2.1 in /home/jeremie/Code/paysages/.venv/lib/python3.12/site-packages (from weasel<0.5.0,>=0.1.0->spacy>=3.0.0->spacytextblob) (7.0.5)\n",
      "Requirement already satisfied: MarkupSafe>=2.0 in /home/jeremie/Code/paysages/.venv/lib/python3.12/site-packages (from jinja2->spacy>=3.0.0->spacytextblob) (3.0.2)\n",
      "Requirement already satisfied: marisa-trie>=1.1.0 in /home/jeremie/Code/paysages/.venv/lib/python3.12/site-packages (from language-data>=1.2->langcodes<4.0.0,>=3.2.0->spacy>=3.0.0->spacytextblob) (1.2.1)\n",
      "Requirement already satisfied: markdown-it-py>=2.2.0 in /home/jeremie/Code/paysages/.venv/lib/python3.12/site-packages (from rich>=10.11.0->typer<1.0.0,>=0.3.0->spacy>=3.0.0->spacytextblob) (3.0.0)\n",
      "Requirement already satisfied: pygments<3.0.0,>=2.13.0 in /home/jeremie/Code/paysages/.venv/lib/python3.12/site-packages (from rich>=10.11.0->typer<1.0.0,>=0.3.0->spacy>=3.0.0->spacytextblob) (2.18.0)\n",
      "Requirement already satisfied: wrapt in /home/jeremie/Code/paysages/.venv/lib/python3.12/site-packages (from smart-open<8.0.0,>=5.2.1->weasel<0.5.0,>=0.1.0->spacy>=3.0.0->spacytextblob) (1.17.0)\n",
      "Requirement already satisfied: mdurl~=0.1 in /home/jeremie/Code/paysages/.venv/lib/python3.12/site-packages (from markdown-it-py>=2.2.0->rich>=10.11.0->typer<1.0.0,>=0.3.0->spacy>=3.0.0->spacytextblob) (0.1.2)\n",
      "Downloading spacytextblob-5.0.0-py3-none-any.whl (4.2 kB)\n",
      "Installing collected packages: spacytextblob\n",
      "Successfully installed spacytextblob-5.0.0\n"
     ]
    }
   ],
   "source": [
    "!pip install spacytextblob"
   ]
  },
  {
   "cell_type": "code",
   "execution_count": 5,
   "id": "2600790a-36b6-4c8c-a744-1d31348a0384",
   "metadata": {},
   "outputs": [
    {
     "name": "stdout",
     "output_type": "stream",
     "text": [
      "[nltk_data] Downloading package brown to /home/jeremie/nltk_data...\n",
      "[nltk_data]   Unzipping corpora/brown.zip.\n",
      "[nltk_data] Downloading package punkt to /home/jeremie/nltk_data...\n",
      "[nltk_data]   Unzipping tokenizers/punkt.zip.\n",
      "[nltk_data] Downloading package wordnet to /home/jeremie/nltk_data...\n",
      "[nltk_data] Downloading package averaged_perceptron_tagger to\n",
      "[nltk_data]     /home/jeremie/nltk_data...\n",
      "[nltk_data]   Unzipping taggers/averaged_perceptron_tagger.zip.\n",
      "[nltk_data] Downloading package conll2000 to\n",
      "[nltk_data]     /home/jeremie/nltk_data...\n",
      "[nltk_data]   Unzipping corpora/conll2000.zip.\n",
      "[nltk_data] Downloading package movie_reviews to\n",
      "[nltk_data]     /home/jeremie/nltk_data...\n",
      "[nltk_data]   Unzipping corpora/movie_reviews.zip.\n",
      "Finished.\n"
     ]
    }
   ],
   "source": [
    "!python -m textblob.download_corpora"
   ]
  },
  {
   "cell_type": "code",
   "execution_count": 6,
   "id": "f9fd2598-1dbb-4f5a-9ecb-dc14be2f14a5",
   "metadata": {},
   "outputs": [],
   "source": [
    "nlp = spacy.load('fr_core_news_sm')"
   ]
  },
  {
   "cell_type": "code",
   "execution_count": 7,
   "id": "7ad9195b-ad9d-4507-a82b-a0f239fcdf5a",
   "metadata": {},
   "outputs": [
    {
     "data": {
      "text/plain": [
       "<spacytextblob.spacytextblob.SpacyTextBlob at 0x7f24dc5b1a30>"
      ]
     },
     "execution_count": 7,
     "metadata": {},
     "output_type": "execute_result"
    }
   ],
   "source": [
    "nlp.add_pipe('spacytextblob')"
   ]
  },
  {
   "cell_type": "code",
   "execution_count": 10,
   "id": "f59fcd73-bece-44d1-b8f4-1a7e9c635f1f",
   "metadata": {},
   "outputs": [],
   "source": [
    "doc = nlp(comment)"
   ]
  },
  {
   "cell_type": "code",
   "execution_count": 11,
   "id": "7f9e9ff6-3b6c-42b7-8b30-aad07158fe8f",
   "metadata": {},
   "outputs": [
    {
     "data": {
      "text/plain": [
       "Je me promène sur la plage, il fait très beau, je suis content"
      ]
     },
     "execution_count": 11,
     "metadata": {},
     "output_type": "execute_result"
    }
   ],
   "source": [
    "doc"
   ]
  },
  {
   "cell_type": "code",
   "execution_count": 12,
   "id": "257267e1-bd54-4a46-ab0d-346c8ff45364",
   "metadata": {},
   "outputs": [
    {
     "data": {
      "text/plain": [
       "0.0"
      ]
     },
     "execution_count": 12,
     "metadata": {},
     "output_type": "execute_result"
    }
   ],
   "source": ""
  },
  {
   "cell_type": "code",
   "id": "5e863785-ae00-4ba5-b705-b22d7be39b21",
   "metadata": {
    "ExecuteTime": {
     "end_time": "2024-12-05T16:09:25.048252Z",
     "start_time": "2024-12-05T16:09:25.041319Z"
    }
   },
   "source": "import vaderSentiment",
   "outputs": [],
   "execution_count": 1
  },
  {
   "metadata": {
    "ExecuteTime": {
     "end_time": "2024-12-05T16:09:33.754293Z",
     "start_time": "2024-12-05T16:09:33.747920Z"
    }
   },
   "cell_type": "code",
   "source": "from vaderSentiment.vaderSentiment import SentimentIntensityAnalyzer",
   "id": "b2f7f866a1964367",
   "outputs": [],
   "execution_count": 2
  },
  {
   "metadata": {
    "ExecuteTime": {
     "end_time": "2024-12-05T16:09:57.035885Z",
     "start_time": "2024-12-05T16:09:51.349132Z"
    }
   },
   "cell_type": "code",
   "source": "from spacy.lang.fr.stop_words import STOP_WORDS as stopWordFR",
   "id": "59daca1aee264053",
   "outputs": [],
   "execution_count": 3
  },
  {
   "metadata": {
    "ExecuteTime": {
     "end_time": "2024-12-05T16:10:20.897383Z",
     "start_time": "2024-12-05T16:10:20.893142Z"
    }
   },
   "cell_type": "code",
   "source": "import spacy",
   "id": "10e69f36f8730822",
   "outputs": [],
   "execution_count": 5
  },
  {
   "metadata": {
    "ExecuteTime": {
     "end_time": "2024-12-05T16:10:23.922837Z",
     "start_time": "2024-12-05T16:10:22.379416Z"
    }
   },
   "cell_type": "code",
   "source": "nlpFR = spacy.load('fr_core_news_sm')",
   "id": "79aa889fb0057f61",
   "outputs": [],
   "execution_count": 6
  },
  {
   "metadata": {
    "ExecuteTime": {
     "end_time": "2024-12-05T16:13:54.210489Z",
     "start_time": "2024-12-05T16:13:54.204458Z"
    }
   },
   "cell_type": "code",
   "source": [
    "phrases = [\n",
    "\"Je déteste ce que je suis\",\n",
    "\"Le plus grand plaisir dans la vie, c’est de faire les choses que les gens disent impossibles\",\n",
    "\"Je connais mes limites, c’est pourquoi je vais au-delà.\",\n",
    "\"Un homme est bien fort quand il s’avoue sa faiblesse\",\n",
    "\"On ne voit bien qu’avec le coeur. L’essentiel est invisible pour les yeux\",\n",
    "\"On ne voit bien qu’avec le coeur. L’essentiel est invisible pour les yeux\",\n",
    "\"Fais de ta vie un rêve, et d’un rêve, une réalité\",\n",
    "\"Rien de grand ne s’est fait dans le monde sans passion\",\n",
    "\"Il faut manger pour vivre, et non pas vivre pour manger\",\n",
    "\"Je veux être ton ‘bonjour’ préféré et ton plus dur ‘au revoir’\",\n",
    "\"Si j’avais le choix entre la vie et toi, je te choisirais car tu es ma seule raison de vivre\"\n",
    "]"
   ],
   "id": "cc6cc32731216cd5",
   "outputs": [],
   "execution_count": 12
  },
  {
   "metadata": {
    "ExecuteTime": {
     "end_time": "2024-12-05T16:13:55.545102Z",
     "start_time": "2024-12-05T16:13:55.519981Z"
    }
   },
   "cell_type": "code",
   "source": "readSentiment = SentimentIntensityAnalyzer()",
   "id": "33a574ce13a6e1ee",
   "outputs": [],
   "execution_count": 13
  },
  {
   "metadata": {
    "ExecuteTime": {
     "end_time": "2024-12-05T16:13:56.086374Z",
     "start_time": "2024-12-05T16:13:56.078774Z"
    }
   },
   "cell_type": "code",
   "source": [
    "for txt in phrases:\n",
    "  print(readSentiment.polarity_scores(txt))\n",
    "\n"
   ],
   "id": "7c35e3a099593718",
   "outputs": [
    {
     "name": "stdout",
     "output_type": "stream",
     "text": [
      "{'neg': 0.0, 'neu': 1.0, 'pos': 0.0, 'compound': 0.0}\n",
      "{'neg': 0.0, 'neu': 0.842, 'pos': 0.158, 'compound': 0.4588}\n",
      "{'neg': 0.0, 'neu': 1.0, 'pos': 0.0, 'compound': 0.0}\n",
      "{'neg': 0.0, 'neu': 1.0, 'pos': 0.0, 'compound': 0.0}\n",
      "{'neg': 0.0, 'neu': 1.0, 'pos': 0.0, 'compound': 0.0}\n",
      "{'neg': 0.0, 'neu': 1.0, 'pos': 0.0, 'compound': 0.0}\n",
      "{'neg': 0.0, 'neu': 1.0, 'pos': 0.0, 'compound': 0.0}\n",
      "{'neg': 0.0, 'neu': 0.6, 'pos': 0.4, 'compound': 0.7184}\n",
      "{'neg': 0.0, 'neu': 1.0, 'pos': 0.0, 'compound': 0.0}\n",
      "{'neg': 0.0, 'neu': 1.0, 'pos': 0.0, 'compound': 0.0}\n",
      "{'neg': 0.0, 'neu': 1.0, 'pos': 0.0, 'compound': 0.0}\n"
     ]
    }
   ],
   "execution_count": 14
  },
  {
   "metadata": {
    "ExecuteTime": {
     "end_time": "2024-12-05T16:14:01.567251Z",
     "start_time": "2024-12-05T16:14:01.562644Z"
    }
   },
   "cell_type": "code",
   "source": [
    "def getSentiment(phrase):\n",
    "  s = readSentiment.polarity_scores(phrase)\n",
    "  if s['compound'] <= -0.05:\n",
    "    sentiment = 0\n",
    "  elif s['compound'] >= 0.05:\n",
    "    sentiment = 1\n",
    "  else:\n",
    "    sentiment = 2\n",
    "  return sentiment, s"
   ],
   "id": "7dd4d6e49016e70b",
   "outputs": [],
   "execution_count": 15
  },
  {
   "metadata": {
    "ExecuteTime": {
     "end_time": "2024-12-05T16:14:02.375949Z",
     "start_time": "2024-12-05T16:14:02.367860Z"
    }
   },
   "cell_type": "code",
   "source": [
    "sentiments = ['Negative', 'Positive', 'Neutral']\n",
    "for txt in phrases:\n",
    "  print(sentiments[getSentiment(txt)[0]], ' - ', txt)\n",
    "\n"
   ],
   "id": "2b91d871fc6137b2",
   "outputs": [
    {
     "name": "stdout",
     "output_type": "stream",
     "text": [
      "Neutral  -  Je déteste ce que je suis\n",
      "Positive  -  Le plus grand plaisir dans la vie, c’est de faire les choses que les gens disent impossibles\n",
      "Neutral  -  Je connais mes limites, c’est pourquoi je vais au-delà.\n",
      "Neutral  -  Un homme est bien fort quand il s’avoue sa faiblesse\n",
      "Neutral  -  On ne voit bien qu’avec le coeur. L’essentiel est invisible pour les yeux\n",
      "Neutral  -  On ne voit bien qu’avec le coeur. L’essentiel est invisible pour les yeux\n",
      "Neutral  -  Fais de ta vie un rêve, et d’un rêve, une réalité\n",
      "Positive  -  Rien de grand ne s’est fait dans le monde sans passion\n",
      "Neutral  -  Il faut manger pour vivre, et non pas vivre pour manger\n",
      "Neutral  -  Je veux être ton ‘bonjour’ préféré et ton plus dur ‘au revoir’\n",
      "Neutral  -  Si j’avais le choix entre la vie et toi, je te choisirais car tu es ma seule raison de vivre\n"
     ]
    }
   ],
   "execution_count": 16
  },
  {
   "metadata": {},
   "cell_type": "code",
   "outputs": [],
   "execution_count": null,
   "source": "",
   "id": "50813a5f8427f6a7"
  }
 ],
 "metadata": {
  "kernelspec": {
   "display_name": "Python 3 (ipykernel)",
   "language": "python",
   "name": "python3"
  },
  "language_info": {
   "codemirror_mode": {
    "name": "ipython",
    "version": 3
   },
   "file_extension": ".py",
   "mimetype": "text/x-python",
   "name": "python",
   "nbconvert_exporter": "python",
   "pygments_lexer": "ipython3",
   "version": "3.12.7"
  }
 },
 "nbformat": 4,
 "nbformat_minor": 5
}
