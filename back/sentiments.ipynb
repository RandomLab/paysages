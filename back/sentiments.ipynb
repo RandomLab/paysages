{
 "cells": [
  {
   "cell_type": "code",
   "execution_count": 1,
   "id": "2d23fc18-cad8-4ba8-b4bb-bb22b84b4350",
   "metadata": {},
   "outputs": [],
   "source": [
    "from nltk.tokenize import sent_tokenize"
   ]
  },
  {
   "cell_type": "code",
   "execution_count": 2,
   "id": "4f9fe2e3-c3d7-49f8-93ae-b059c38fb662",
   "metadata": {},
   "outputs": [],
   "source": [
    "from nltk.tokenize import word_tokenize"
   ]
  },
  {
   "cell_type": "code",
   "execution_count": 3,
   "id": "05387f34-cfa4-476d-beeb-30f09266647c",
   "metadata": {},
   "outputs": [],
   "source": [
    "import re"
   ]
  },
  {
   "cell_type": "code",
   "execution_count": 4,
   "id": "3359b90d-4ca1-4ef2-85b3-65d238285026",
   "metadata": {},
   "outputs": [],
   "source": [
    "import spacy"
   ]
  },
  {
   "cell_type": "code",
   "execution_count": 5,
   "id": "c357f8de-b395-420a-999d-16bbb178e728",
   "metadata": {},
   "outputs": [],
   "source": [
    "from spacy.lang.fr.stop_words import STOP_WORDS"
   ]
  },
  {
   "cell_type": "code",
   "execution_count": 6,
   "id": "9489d181-3adb-43ef-904b-bb3ce543335b",
   "metadata": {},
   "outputs": [],
   "source": [
    "import string"
   ]
  },
  {
   "cell_type": "code",
   "execution_count": 7,
   "id": "b982dc89-5cd8-41c6-bb7d-f9254d295549",
   "metadata": {},
   "outputs": [],
   "source": [
    "from textblob import Blobber"
   ]
  },
  {
   "cell_type": "code",
   "execution_count": 8,
   "id": "508fdd5b-af5a-4625-95d5-524a62948eea",
   "metadata": {},
   "outputs": [],
   "source": [
    "from textblob_fr import PatternTagger, PatternAnalyzer"
   ]
  },
  {
   "cell_type": "code",
   "execution_count": 10,
   "id": "7b2b9c78-1254-432b-8de2-d78414ec0a9e",
   "metadata": {},
   "outputs": [],
   "source": [
    "tb = Blobber(pos_tagger=PatternTagger(), analyzer=PatternAnalyzer())"
   ]
  },
  {
   "cell_type": "code",
   "execution_count": 11,
   "id": "b9fddb6e-ac09-4515-9ebc-75e7c38e7cf4",
   "metadata": {},
   "outputs": [],
   "source": [
    "comment = \"Je me promène sur la plage, il fait très beau, je suis content\""
   ]
  },
  {
   "cell_type": "code",
   "execution_count": 12,
   "id": "9b7174b6-4f7f-4e5b-bae0-17ead5495b65",
   "metadata": {},
   "outputs": [
    {
     "data": {
      "text/plain": [
       "TextBlob(\"Je me promène sur la plage, il fait très beau, je suis content\")"
      ]
     },
     "execution_count": 12,
     "metadata": {},
     "output_type": "execute_result"
    }
   ],
   "source": [
    "tb(comment)"
   ]
  },
  {
   "cell_type": "code",
   "execution_count": 13,
   "id": "ebe89027-59a0-4d00-8f43-02c3cf43f61d",
   "metadata": {},
   "outputs": [],
   "source": [
    "vs = tb(comment)"
   ]
  },
  {
   "cell_type": "code",
   "execution_count": 14,
   "id": "88bbf1d9-7a7d-4e03-8891-27997596ca9b",
   "metadata": {},
   "outputs": [
    {
     "data": {
      "text/plain": [
       "TextBlob(\"Je me promène sur la plage, il fait très beau, je suis content\")"
      ]
     },
     "execution_count": 14,
     "metadata": {},
     "output_type": "execute_result"
    }
   ],
   "source": [
    "vs.s"
   ]
  },
  {
   "cell_type": "code",
   "execution_count": null,
   "id": "c82746f3-357c-4524-a28f-87cd2ea52df7",
   "metadata": {},
   "outputs": [],
   "source": []
  }
 ],
 "metadata": {
  "kernelspec": {
   "display_name": "Python 3 (ipykernel)",
   "language": "python",
   "name": "python3"
  },
  "language_info": {
   "codemirror_mode": {
    "name": "ipython",
    "version": 3
   },
   "file_extension": ".py",
   "mimetype": "text/x-python",
   "name": "python",
   "nbconvert_exporter": "python",
   "pygments_lexer": "ipython3",
   "version": "3.12.7"
  }
 },
 "nbformat": 4,
 "nbformat_minor": 5
}
